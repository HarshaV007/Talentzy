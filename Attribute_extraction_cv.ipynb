{
 "cells": [
  {
   "cell_type": "code",
   "execution_count": 36,
   "metadata": {},
   "outputs": [],
   "source": [
    "import nltk, os, subprocess, code, glob, re, traceback, sys, inspect\n",
    "from time import clock, sleep\n",
    "from pprint import pprint\n",
    "import json\n",
    "import zipfile\n",
    "import PyPDF2\n",
    "import os\n",
    "import pandas as pd\n",
    "import PyPDF2\n",
    "import docx2txt\n",
    "from io import StringIO\n",
    "from pdfminer.pdfinterp import PDFResourceManager\n",
    "from pdfminer.converter import TextConverter\n",
    "from pdfminer.layout import LAParams\n",
    "from pdfminer.pdfinterp import PDFPageInterpreter\n",
    "from pdfminer.pdfpage import PDFPage\n",
    "\n",
    "\n",
    "os.chdir('C:\\\\Users\\\\Harsha Vardhan\\\\OneDrive\\\\Desktop\\\\VIZAG\\\\resumes')\n",
    "\n",
    "\n",
    "\n",
    "   "
   ]
  },
  {
   "cell_type": "code",
   "execution_count": 37,
   "metadata": {},
   "outputs": [],
   "source": [
    "#pdfFileObj = open('1.pdf','rb')     #'rb' for read binary mode\n",
    "#pdfReader = PyPDF2.PdfFileReader(pdfFileObj)\n",
    "#pdfReader.numPages\n",
    "#pdfFileObj.close()\n",
    "#\n",
    "\n",
    "#pdfFileObj = open(\"Harsh_FebResume.pdf\", 'rb')\n",
    "#pdfReader = PyPDF2.PdfFileReader(pdfFileObj)\n",
    "#pageObj = pdfReader.getPage(0)\n",
    "#page1 = pageObj.extractText()\n",
    "#page1"
   ]
  },
  {
   "cell_type": "code",
   "execution_count": 38,
   "metadata": {},
   "outputs": [],
   "source": [
    "#from tika import parser # pip install tika\n",
    "\n",
    "\n"
   ]
  },
  {
   "cell_type": "code",
   "execution_count": 39,
   "metadata": {},
   "outputs": [],
   "source": [
    "file=os.listdir('C:\\\\Users\\\\Harsha Vardhan\\\\OneDrive\\\\Desktop\\\\VIZAG\\\\resumes')\n"
   ]
  },
  {
   "cell_type": "code",
   "execution_count": null,
   "metadata": {},
   "outputs": [],
   "source": [
    "# Read in PDF complicated text using Pdfminer\n",
    "def pdf_text_reader(pdf_file_name, pages=None):\n",
    "    if pages:\n",
    "        pagenums = set(pages)\n",
    "    else:\n",
    "        pagenums = set()\n",
    "\n",
    "    # 1) Initiate the Pdf text converter and interpreter\n",
    "    textOutput = StringIO()\n",
    "    manager = PDFResourceManager()\n",
    "    converter = TextConverter(manager, textOutput, laparams=LAParams())\n",
    "    interpreter = PDFPageInterpreter(manager, converter)\n",
    "\n",
    "    # 2) Extract text from file using the interpreter\n",
    "    infile = open(pdf_file_name, 'rb')\n",
    "    for page in PDFPage.get_pages(infile, pagenums):\n",
    "        interpreter.process_page(page)        \n",
    "    infile.close()\n",
    "    \n",
    "    # 3) Extract the paragraphs and close the connections\n",
    "    paras = textOutput.getvalue()   \n",
    "    converter.close()\n",
    "    textOutput.close\n",
    "    return paras\n",
    "\n",
    "\n",
    "\n",
    "if __name__ == '__main__':\n",
    "    file=os.listdir('C:\\\\Users\\\\Harsha Vardhan\\\\OneDrive\\\\Desktop\\\\VIZAG\\\\resumes')\n",
    "\n",
    "    ass = []\n",
    "    for filename2 in file:\n",
    "        if filename2.endswith(\".docx\"):\n",
    "            text = docx2txt.process(filename2)\n",
    "            asd = ([i for i in out.split('\\n') if i])\n",
    "            ass.append(text)\n",
    "        else:\n",
    "            \n",
    "            out = pdf_text_reader(filename2, pages=[0])   \n",
    "            asd = ([i for i in out.split('\\n') if i])\n",
    "            ass.append(out)"
   ]
  },
  {
   "cell_type": "code",
   "execution_count": null,
   "metadata": {},
   "outputs": [],
   "source": [
    "\n",
    "import pandas as pd\n",
    "assdf = pd.DataFrame(ass)"
   ]
  },
  {
   "cell_type": "code",
   "execution_count": null,
   "metadata": {},
   "outputs": [],
   "source": [
    "assdf.head"
   ]
  },
  {
   "cell_type": "code",
   "execution_count": null,
   "metadata": {},
   "outputs": [],
   "source": [
    "print(assdf[0][0])"
   ]
  },
  {
   "cell_type": "code",
   "execution_count": null,
   "metadata": {},
   "outputs": [],
   "source": [
    "assdf.to_csv('resumetext.csv')"
   ]
  },
  {
   "cell_type": "code",
   "execution_count": null,
   "metadata": {},
   "outputs": [],
   "source": [
    "import os\n",
    "os.chdir('C:\\\\Users\\\\Harsha Vardhan\\\\OneDrive\\\\Desktop\\\\VIZAG\\\\resumes')\n",
    "from pyresparser import ResumeParser\n",
    "Name=[]\n",
    "Email=[]\n",
    "Mobile_number=[]\n",
    "Skills=[]\n",
    "College_name=[]\n",
    "Degree=[]\n",
    "Designation=[]\n",
    "Experience=[]\n",
    "Company_names=[]\n",
    "No_of_pages=[]\n",
    "Total_experience=[]\n",
    "file=os.listdir('C:\\\\Users\\\\Harsha Vardhan\\\\OneDrive\\\\Desktop\\\\VIZAG\\\\resumes')\n"
   ]
  },
  {
   "cell_type": "code",
   "execution_count": null,
   "metadata": {},
   "outputs": [],
   "source": [
    "for filename in file:\n",
    "    \n",
    "    data = ResumeParser(filename).get_extracted_data()\n",
    "    Name.append(data['name'])\n",
    "    Email.append(data['email'])\n",
    "    Mobile_number.append(data['mobile_number'])\n",
    "    Skills.append(data['skills'])\n",
    "    College_name.append(data['college_name'])\n",
    "    Degree.append(data['degree'])\n",
    "    Designation.append(data['designation'])\n",
    "    Experience.append(data['experience'])\n",
    "    Company_names.append(data['company_names'])\n",
    "    \n",
    "    Total_experience.append(data['total_experience'])    "
   ]
  },
  {
   "cell_type": "code",
   "execution_count": null,
   "metadata": {},
   "outputs": [],
   "source": [
    "import pandas as pd\n",
    "d = { 'Name': Name,\n",
    "'Email':Email,\n",
    "'Mobile_number':Mobile_number,\n",
    "'Skills':Skills,\n",
    "'College_name':College_name,\n",
    "'Degree':Degree,\n",
    "'Designation':Designation,\n",
    "'Experience':Experience,\n",
    "'Company_names':Company_names,\n",
    "\n",
    "'Total_experience':Total_experience}\n",
    "\n",
    "Resume_data=pd.DataFrame(data=d)\n",
    "Resume_data"
   ]
  },
  {
   "cell_type": "code",
   "execution_count": null,
   "metadata": {},
   "outputs": [],
   "source": [
    "import os\n",
    "os.getcwd()"
   ]
  },
  {
   "cell_type": "code",
   "execution_count": null,
   "metadata": {},
   "outputs": [],
   "source": [
    "import docx2txt"
   ]
  },
  {
   "cell_type": "code",
   "execution_count": null,
   "metadata": {},
   "outputs": [],
   "source": [
    "os.chdir('C:\\\\Users\\\\Harsha Vardhan\\\\OneDrive\\\\Desktop\\\\VIZAG\\\\resumes')\n"
   ]
  },
  {
   "cell_type": "code",
   "execution_count": 35,
   "metadata": {},
   "outputs": [],
   "source": [
    "#LIST =[]\n",
    "#for i in range (len(Data)):\n",
    "#    \n",
    "#    \n",
    "#    tt = Data['Description'][i]\n",
    "#    Skill=[x.lower() for x in Business_Intelligence_Skill]\n",
    "#    res = [sub for sub in Skill if sub in tt] \n",
    "#    #listToStr = ' '.join(map(str, res)) \n",
    "#    #print(listToStr)\n",
    "#    #res1 = {i : listToStr.count(i) for i in set(listToStr)}\n",
    "#    #listToStr.value_count()\n",
    "#    #x = pd.Series(res)\n",
    "#    #x.value_counts()\n",
    "#    print(res)\n",
    "#    strip = []\n",
    "#    for i in range(len(res)):\n",
    "#        strip1 = res[i].strip()\n",
    "#        strip.append(strip1)\n",
    "#    x = pd.Series(strip)\n",
    "#    x.value_counts()[:]\n",
    "#    values = x.value_counts(dropna=False).keys().tolist()\n",
    "#    counts = x.value_counts(dropna=False).tolist()\n",
    "#    value_dict = dict(zip(values, counts))\n",
    "#    LIST.append(value_dict)"
   ]
  },
  {
   "cell_type": "code",
   "execution_count": 34,
   "metadata": {},
   "outputs": [],
   "source": [
    "os.chdir('C:\\\\Users\\\\Harsha Vardhan\\\\OneDrive\\\\Desktop\\\\VIZAG')\n",
    "assdf.to_csv('resumestext.csv')"
   ]
  },
  {
   "cell_type": "code",
   "execution_count": null,
   "metadata": {},
   "outputs": [],
   "source": []
  },
  {
   "cell_type": "code",
   "execution_count": null,
   "metadata": {},
   "outputs": [],
   "source": []
  }
 ],
 "metadata": {
  "kernelspec": {
   "display_name": "Python 3",
   "language": "python",
   "name": "python3"
  },
  "language_info": {
   "codemirror_mode": {
    "name": "ipython",
    "version": 3
   },
   "file_extension": ".py",
   "mimetype": "text/x-python",
   "name": "python",
   "nbconvert_exporter": "python",
   "pygments_lexer": "ipython3",
   "version": "3.6.9"
  }
 },
 "nbformat": 4,
 "nbformat_minor": 2
}
