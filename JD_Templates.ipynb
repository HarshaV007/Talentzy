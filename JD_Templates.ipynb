{
 "cells": [
  {
   "cell_type": "code",
   "execution_count": 1,
   "metadata": {},
   "outputs": [],
   "source": [
    "def template(Job_Title = 'Business Intelligence',Experience='4',Location='Delhi',Skill_set ='Qlick,Tableau,Power BI,Excel'):\n",
    "    Template='Job Title:'+Job_Title+'\\n\\nLocation :'+Location+'\\n\\nSummary:\\nWe are currently seeking a motivated, experienced, and highly-skilled '+Job_Title+' to join our innovative team. In this role, you will conduct thorough data analysis, help design and implement analytics programs, generate reports, and collaborate with various teams to ensure we are optimizing our resources and maximizing our market share.To succeed in this position, you must be driven and thrive in a fast-paced environment\\nJob_Duties_Responsibilities:\\nCollaborate to perform data and process analyses required.\\nProcure buy-in from stakeholders\\nDefine requirements and provide simplified explanations\\nSynthesize data and feedback from users, clients, and management\\nContribute to short and long-term goal setting\\Develop action plans and aide in accountability\\Collaborate regularly with various teams, including market analytics\\nDevelop and utilize dashboards effectively\\nDevelop, analyze, and modify processes, data structures, and models\\nInteract with clients to evaluate products and performance\\nMaintain objectivity at all times to ensure processes and products are relevant\\nMake data-driven decisions and recommendations\\nArticulately and concisely explain the implications of complex data\\Requirements:\\nBachelor’s degree in a relevant field required, master’s degree preferred\\nAdditional certifications that exemplify a desire for continued education is a plus\\nMinimum of '+Experience+' years experience working in analytics or relevant field\\nSolid computer skills, including Microsoft Office, databases, web-based applications\\nSignificant work experience with '+Skill_set+'\\nSignificant experience with Tableau\\nA keen eye for details and aptitude for working with data\\nHighly accurate and thorough in all tasks\\nExceptional organizational and presentation skills\\nHighly organized and able to prioritize tasks\\nOutstanding written, verbal, and interpersonal skills\\nStrong problem-solving skills and an analytical mind\\nProven experience as a collaborative team player\\nAble to thrive in a fast-paced, deadline-driven environment'\n",
    "    return print(Template) \n",
    "    \n"
   ]
  },
  {
   "cell_type": "code",
   "execution_count": 2,
   "metadata": {},
   "outputs": [],
   "source": [
    "def template1(Job_Title = 'Business Intelligence',Experience='4',Location='Delhi',JobType='',Key_Skills='',About_Company='',Generic_Skills='',Job_posted=''):\n",
    "    Template='Job Title:'+Job_Title+'\\nLocation :'+Location+'\\nExperience :'+Experience+'\\nJobtype :'+JobType+'\\nAbout Company :'+About_Company+'\\nJob_description:\\nWe are currently seeking a motivated, experienced, and highly-skilled '+Job_Title+' to join our innovative team. In this role, you will conduct thorough data analysis, help design and implement analytics programs, generate reports, and collaborate with various teams to ensure we are optimizing our resources and maximizing our market share.To succeed in this position, you must be driven and thrive in a fast-paced environment\\nKey_Skills :'+Key_Skills+'\\nGeneric_Skills :'+Generic_Skills+'\\nJob_Posted_by :'+Job_posted+'\\n'\n",
    "    return print(Template)"
   ]
  },
  {
   "cell_type": "code",
   "execution_count": 3,
   "metadata": {},
   "outputs": [],
   "source": [
    "def template2(Job_Title = 'Business Intelligence',Experience='4',Location='Delhi',Employement_type='',Technical_skills='',Company_name='',Job_id='',Industry='',Description='',Qualifications=''):\n",
    "    Template='Job Title:'+Job_Title+'\\nLocation :'+Location+'\\nDescription:'+Description+'\\nSuccessful Candidates Demonstrate An Ability To:\\nHave passion for sourcing, manipulating and visualizing data\\nApply direction and confidence to design qualitative and quantitative analysis\\nStand before stakeholders, including senior leaders to clearly communicate strategic findings and recommendations\\nPartner with key members from technical and non-technical teams to build and deliver requirements\\nPrioritize and manage multiple priorities simultaneously\\nTranslate technical concepts into business terms\\nAdvocate for working backwards from the customer\\nThis position may be located in '+Location+'.\\nBasic Qualifications:\\n'+Experience+' years of experience as an '+Job_Title+' in the data/BI space\\nExperience with '+Technical_skills+'.\\nBachelors degree in '+Qualifications+' or other equivalent quantitative discipline\\n'+Experience+' years of experience in data modeling / advanced business analytics\\n Experience with R, Python or other statistical/machine learning software\\nUnderstanding of machine learning algorithms such as Linear Regression, Logistic Regression, Time Series forecasting, etc.\\nExperience developing experimental and analytic plans for data modeling processes, use of strong baselines, and the ability to accurately determine cause and effect relationships\\nExpert knowledge in SQL and experience working with complex data sets\\nPreferred Qualifications:\\nMBA or Master’s degree in Computer Science, Engineering, Statistics, Mathematics, Statistics or related field\\nExperience with AWS solutions\\nExperience working in very large data warehouse environments\\nExperience conducting large scale data, regression, and predictive analysis to support business decision making\\nStrong verbal/written communication and data visualization skills, including an ability to effectively communicate with both business and technical teams\\nCompany - '+Company_name+'\\nJob ID: '+Job_id+'\\nIndustry:'+Industry+'\\nEmployment Type:'+Employement_type+'\\n'\n",
    "    return print(Template)"
   ]
  },
  {
   "cell_type": "code",
   "execution_count": 4,
   "metadata": {},
   "outputs": [
    {
     "name": "stdout",
     "output_type": "stream",
     "text": [
      "Job Title:Business Intelligence\n",
      "Location :Delhi\n",
      "Experience :4\n",
      "Jobtype :\n",
      "About Company :\n",
      "Job_description:\n",
      "We are currently seeking a motivated, experienced, and highly-skilled Business Intelligence to join our innovative team. In this role, you will conduct thorough data analysis, help design and implement analytics programs, generate reports, and collaborate with various teams to ensure we are optimizing our resources and maximizing our market share.To succeed in this position, you must be driven and thrive in a fast-paced environment\n",
      "Key_Skills :\n",
      "Generic_Skills :\n",
      "Job_Posted_by :\n",
      "\n"
     ]
    }
   ],
   "source": [
    "template1(Job_Title = 'Business Intelligence',Experience='4',Location='Delhi',JobType='',Key_Skills='',About_Company='',Generic_Skills='',Job_posted='')"
   ]
  },
  {
   "cell_type": "code",
   "execution_count": 5,
   "metadata": {},
   "outputs": [
    {
     "name": "stdout",
     "output_type": "stream",
     "text": [
      "Job Title:Business Analyst\n",
      "\n",
      "Location :Hyderabad\n",
      "\n",
      "Summary:\n",
      "We are currently seeking a motivated, experienced, and highly-skilled Business Analyst to join our innovative team. In this role, you will conduct thorough data analysis, help design and implement analytics programs, generate reports, and collaborate with various teams to ensure we are optimizing our resources and maximizing our market share.To succeed in this position, you must be driven and thrive in a fast-paced environment\n",
      "Job_Duties_Responsibilities:\n",
      "Collaborate to perform data and process analyses required.\n",
      "Procure buy-in from stakeholders\n",
      "Define requirements and provide simplified explanations\n",
      "Synthesize data and feedback from users, clients, and management\n",
      "Contribute to short and long-term goal setting\\Develop action plans and aide in accountability\\Collaborate regularly with various teams, including market analytics\n",
      "Develop and utilize dashboards effectively\n",
      "Develop, analyze, and modify processes, data structures, and models\n",
      "Interact with clients to evaluate products and performance\n",
      "Maintain objectivity at all times to ensure processes and products are relevant\n",
      "Make data-driven decisions and recommendations\n",
      "Articulately and concisely explain the implications of complex data\\Requirements:\n",
      "Bachelor’s degree in a relevant field required, master’s degree preferred\n",
      "Additional certifications that exemplify a desire for continued education is a plus\n",
      "Minimum of 8+ years experience working in analytics or relevant field\n",
      "Solid computer skills, including Microsoft Office, databases, web-based applications\n",
      "Significant work experience with Qlick,Tableau,Power BI,Excel\n",
      "Significant experience with Tableau\n",
      "A keen eye for details and aptitude for working with data\n",
      "Highly accurate and thorough in all tasks\n",
      "Exceptional organizational and presentation skills\n",
      "Highly organized and able to prioritize tasks\n",
      "Outstanding written, verbal, and interpersonal skills\n",
      "Strong problem-solving skills and an analytical mind\n",
      "Proven experience as a collaborative team player\n",
      "Able to thrive in a fast-paced, deadline-driven environment\n"
     ]
    }
   ],
   "source": [
    "template('Business Analyst','8+','Hyderabad','Qlick,Tableau,Power BI,Excel')"
   ]
  },
  {
   "cell_type": "code",
   "execution_count": 6,
   "metadata": {},
   "outputs": [
    {
     "name": "stdout",
     "output_type": "stream",
     "text": [
      "Job Title:Business Intelligence\n",
      "Location :Delhi\n",
      "Description:\n",
      "Successful Candidates Demonstrate An Ability To:\n",
      "Have passion for sourcing, manipulating and visualizing data\n",
      "Apply direction and confidence to design qualitative and quantitative analysis\n",
      "Stand before stakeholders, including senior leaders to clearly communicate strategic findings and recommendations\n",
      "Partner with key members from technical and non-technical teams to build and deliver requirements\n",
      "Prioritize and manage multiple priorities simultaneously\n",
      "Translate technical concepts into business terms\n",
      "Advocate for working backwards from the customer\n",
      "This position may be located in Delhi.\n",
      "Basic Qualifications:\n",
      "4 years of experience as an Business Intelligence in the data/BI space\n",
      "Experience with .\n",
      "Bachelors degree in  or other equivalent quantitative discipline\n",
      "4 years of experience in data modeling / advanced business analytics\n",
      " Experience with R, Python or other statistical/machine learning software\n",
      "Understanding of machine learning algorithms such as Linear Regression, Logistic Regression, Time Series forecasting, etc.\n",
      "Experience developing experimental and analytic plans for data modeling processes, use of strong baselines, and the ability to accurately determine cause and effect relationships\n",
      "Expert knowledge in SQL and experience working with complex data sets\n",
      "Preferred Qualifications:\n",
      "MBA or Master’s degree in Computer Science, Engineering, Statistics, Mathematics, Statistics or related field\n",
      "Experience with AWS solutions\n",
      "Experience working in very large data warehouse environments\n",
      "Experience conducting large scale data, regression, and predictive analysis to support business decision making\n",
      "Strong verbal/written communication and data visualization skills, including an ability to effectively communicate with both business and technical teams\n",
      "Company - \n",
      "Job ID: \n",
      "Industry:\n",
      "Employment Type:\n",
      "\n"
     ]
    }
   ],
   "source": [
    "template2(Job_Title = 'Business Intelligence',Experience='4',Location='Delhi',Employement_type='',Technical_skills='',Company_name='',Qualifications='',Job_id='',Industry='',Description='')"
   ]
  },
  {
   "cell_type": "code",
   "execution_count": null,
   "metadata": {},
   "outputs": [],
   "source": []
  }
 ],
 "metadata": {
  "kernelspec": {
   "display_name": "Python 3",
   "language": "python",
   "name": "python3"
  },
  "language_info": {
   "codemirror_mode": {
    "name": "ipython",
    "version": 3
   },
   "file_extension": ".py",
   "mimetype": "text/x-python",
   "name": "python",
   "nbconvert_exporter": "python",
   "pygments_lexer": "ipython3",
   "version": "3.6.9"
  }
 },
 "nbformat": 4,
 "nbformat_minor": 2
}
